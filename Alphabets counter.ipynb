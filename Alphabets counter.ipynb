{
 "cells": [
  {
   "cell_type": "code",
   "execution_count": 1,
   "metadata": {},
   "outputs": [],
   "source": [
    "# in a given paragraph find the probability of each alphabet and\n",
    "# replace the max probabolity alphabet with lowest one."
   ]
  },
  {
   "cell_type": "code",
   "execution_count": 1,
   "metadata": {},
   "outputs": [],
   "source": [
    "import numpy as np\n",
    "import random as rd\n",
    "import string\n",
    "import collections\n",
    "from collections import Counter\n",
    "from matplotlib import pyplot as plt\n",
    "%matplotlib inline"
   ]
  },
  {
   "cell_type": "code",
   "execution_count": 2,
   "metadata": {},
   "outputs": [],
   "source": [
    "test_str = '''In a worrying development, Sikh community leaders have said that 140 Afghan sikh and Hindu pilgrims have been stopped by Taliban from leaving the country.\n",
    "\n",
    "The development comes days after in a presser Taliban spokesman Zabiullah Mujahid said that that they won't allow evacuation of Afghans anymore even as foreigners can leave the country.\n",
    "\n",
    "The Afghan Sikhs were to reach Delhi later today for the 400th Birth Anniversary of Sri Guru Tegh Bahadur and a kirtan darbar was scheduled for Sunday.\n",
    "\n",
    "\"Many members of our community from various parts of the world have already arrived to attend the same . Unfortunately, Taliban has denied them access to the Kabul Airport'''"
   ]
  },
  {
   "cell_type": "code",
   "execution_count": 3,
   "metadata": {},
   "outputs": [
    {
     "data": {
      "text/plain": [
       "667"
      ]
     },
     "execution_count": 3,
     "metadata": {},
     "output_type": "execute_result"
    }
   ],
   "source": [
    "len(test_str)"
   ]
  },
  {
   "cell_type": "markdown",
   "metadata": {},
   "source": [
    "count = 0\n",
    "for i in test_str:\n",
    "    if i == 'a' or i == 'A':\n",
    "        count+=1\n",
    "\n",
    "print(count)\n",
    "    "
   ]
  },
  {
   "cell_type": "code",
   "execution_count": 37,
   "metadata": {},
   "outputs": [
    {
     "data": {
      "text/plain": [
       "7"
      ]
     },
     "execution_count": 37,
     "metadata": {},
     "output_type": "execute_result"
    }
   ],
   "source": [
    "#test_str.count('A')\n"
   ]
  },
  {
   "cell_type": "code",
   "execution_count": 4,
   "metadata": {},
   "outputs": [
    {
     "name": "stdout",
     "output_type": "stream",
     "text": [
      "44\n",
      "<class 'collections.Counter'>\n"
     ]
    },
    {
     "data": {
      "text/plain": [
       "Counter({'I': 1,\n",
       "         'n': 36,\n",
       "         ' ': 106,\n",
       "         'a': 60,\n",
       "         'w': 6,\n",
       "         'o': 32,\n",
       "         'r': 39,\n",
       "         'y': 15,\n",
       "         'i': 29,\n",
       "         'g': 8,\n",
       "         'd': 23,\n",
       "         'e': 57,\n",
       "         'v': 12,\n",
       "         'l': 20,\n",
       "         'p': 9,\n",
       "         'm': 16,\n",
       "         't': 38,\n",
       "         ',': 2,\n",
       "         'S': 4,\n",
       "         'k': 5,\n",
       "         'h': 32,\n",
       "         'c': 11,\n",
       "         'u': 17,\n",
       "         's': 26,\n",
       "         '1': 1,\n",
       "         '4': 2,\n",
       "         '0': 3,\n",
       "         'A': 5,\n",
       "         'f': 14,\n",
       "         'H': 1,\n",
       "         'b': 9,\n",
       "         'T': 6,\n",
       "         '.': 4,\n",
       "         '\\n': 6,\n",
       "         'Z': 1,\n",
       "         'M': 2,\n",
       "         'j': 1,\n",
       "         \"'\": 1,\n",
       "         'D': 1,\n",
       "         'B': 2,\n",
       "         'G': 1,\n",
       "         '\"': 1,\n",
       "         'U': 1,\n",
       "         'K': 1})"
      ]
     },
     "execution_count": 4,
     "metadata": {},
     "output_type": "execute_result"
    }
   ],
   "source": [
    "count_of_alphabets = Counter(test_str)\n",
    "print(len(count_of_alphabets))\n",
    "print(type(count_of_alphabets))\n",
    "count_of_alphabets\n",
    "\n"
   ]
  },
  {
   "cell_type": "code",
   "execution_count": 8,
   "metadata": {},
   "outputs": [
    {
     "data": {
      "text/plain": [
       "57"
      ]
     },
     "execution_count": 8,
     "metadata": {},
     "output_type": "execute_result"
    }
   ],
   "source": [
    "count_of_alphabets['e']"
   ]
  },
  {
   "cell_type": "code",
   "execution_count": 9,
   "metadata": {},
   "outputs": [
    {
     "data": {
      "text/plain": [
       "(['a',\n",
       "  'b',\n",
       "  'c',\n",
       "  'd',\n",
       "  'e',\n",
       "  'f',\n",
       "  'g',\n",
       "  'h',\n",
       "  'i',\n",
       "  'j',\n",
       "  'k',\n",
       "  'l',\n",
       "  'm',\n",
       "  'n',\n",
       "  'o',\n",
       "  'p',\n",
       "  'q',\n",
       "  'r',\n",
       "  's',\n",
       "  't',\n",
       "  'u',\n",
       "  'v',\n",
       "  'w',\n",
       "  'x',\n",
       "  'y',\n",
       "  'z'],\n",
       " ['A',\n",
       "  'B',\n",
       "  'C',\n",
       "  'D',\n",
       "  'E',\n",
       "  'F',\n",
       "  'G',\n",
       "  'H',\n",
       "  'I',\n",
       "  'J',\n",
       "  'K',\n",
       "  'L',\n",
       "  'M',\n",
       "  'N',\n",
       "  'O',\n",
       "  'P',\n",
       "  'Q',\n",
       "  'R',\n",
       "  'S',\n",
       "  'T',\n",
       "  'U',\n",
       "  'V',\n",
       "  'W',\n",
       "  'X',\n",
       "  'Y',\n",
       "  'Z'])"
      ]
     },
     "execution_count": 9,
     "metadata": {},
     "output_type": "execute_result"
    }
   ],
   "source": [
    "small_str = string.ascii_lowercase\n",
    "small_list = list(small_str)\n",
    "caps_str = string.ascii_uppercase\n",
    "caps_list = list(caps_str)\n",
    "small_list,caps_list\n"
   ]
  },
  {
   "cell_type": "code",
   "execution_count": 11,
   "metadata": {},
   "outputs": [
    {
     "data": {
      "text/plain": [
       "60"
      ]
     },
     "execution_count": 11,
     "metadata": {},
     "output_type": "execute_result"
    }
   ],
   "source": [
    "count_of_alphabets[caps_list[0]]\n",
    "count_of_alphabets[small_list[0]]"
   ]
  },
  {
   "cell_type": "code",
   "execution_count": 12,
   "metadata": {},
   "outputs": [
    {
     "name": "stdout",
     "output_type": "stream",
     "text": [
      "a + A      65\n",
      "b + B      11\n",
      "c + C      11\n",
      "d + D      24\n",
      "e + E      57\n",
      "f + F      14\n",
      "g + G      9\n",
      "h + H      33\n",
      "i + I      30\n",
      "j + J      1\n",
      "k + K      6\n",
      "l + L      20\n",
      "m + M      18\n",
      "n + N      36\n",
      "o + O      32\n",
      "p + P      9\n",
      "q + Q      0\n",
      "r + R      39\n",
      "s + S      30\n",
      "t + T      44\n",
      "u + U      18\n",
      "v + V      12\n",
      "w + W      6\n",
      "x + X      0\n",
      "y + Y      15\n",
      "z + Z      1\n"
     ]
    }
   ],
   "source": [
    "occurances = []\n",
    "for i in range(26):\n",
    "    total = count_of_alphabets[small_list[i]]+count_of_alphabets[caps_list[i]]\n",
    "    occurances.append(total)\n",
    "    print(small_list[i],\"+\",caps_list[i],\"    \",total)\n",
    "    "
   ]
  },
  {
   "cell_type": "code",
   "execution_count": 13,
   "metadata": {},
   "outputs": [
    {
     "data": {
      "text/plain": [
       "26"
      ]
     },
     "execution_count": 13,
     "metadata": {},
     "output_type": "execute_result"
    }
   ],
   "source": [
    "occurances\n",
    "len(occurances)\n",
    "len(small_list)"
   ]
  },
  {
   "cell_type": "code",
   "execution_count": 42,
   "metadata": {},
   "outputs": [
    {
     "name": "stdout",
     "output_type": "stream",
     "text": [
      "['A', 'B', 'C', 'D', 'E', 'F', 'G', 'H', 'I', 'J', 'K', 'L', 'M', 'N', 'O', 'P', 'Q', 'R', 'S', 'T', 'U', 'V', 'W', 'X', 'Y', 'Z']\n",
      "[78, 11, 11, 29, 62, 16, 15, 37, 38, 2, 6, 21, 19, 43, 34, 12, 0, 49, 34, 46, 21, 14, 8, 0, 15, 1]\n"
     ]
    }
   ],
   "source": [
    "print(caps_list)\n",
    "print(occurances)"
   ]
  },
  {
   "cell_type": "code",
   "execution_count": 43,
   "metadata": {},
   "outputs": [
    {
     "data": {
      "text/plain": [
       "<BarContainer object of 26 artists>"
      ]
     },
     "execution_count": 43,
     "metadata": {},
     "output_type": "execute_result"
    },
    {
     "data": {
      "image/png": "[encoded data removed]",
      "text/plain": [
       "<Figure size 432x288 with 1 Axes>"
      ]
     },
     "metadata": {
      "needs_background": "light"
     },
     "output_type": "display_data"
    }
   ],
   "source": [
    "plt.bar(caps_list,occurances)"
   ]
  },
  {
   "cell_type": "code",
   "execution_count": null,
   "metadata": {},
   "outputs": [],
   "source": []
  }
 ],
 "metadata": {
  "kernelspec": {
   "display_name": "Python 3",
   "language": "python",
   "name": "python3"
  },
  "language_info": {
   "codemirror_mode": {
    "name": "ipython",
    "version": 3
   },
   "file_extension": ".py",
   "mimetype": "text/x-python",
   "name": "python",
   "nbconvert_exporter": "python",
   "pygments_lexer": "ipython3",
   "version": "3.7.6"
  }
 },
 "nbformat": 4,
 "nbformat_minor": 5
}
